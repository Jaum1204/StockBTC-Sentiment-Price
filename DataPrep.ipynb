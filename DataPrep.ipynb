{
 "cells": [
  {
   "cell_type": "code",
   "execution_count": 16,
   "metadata": {},
   "outputs": [],
   "source": [
    "import pandas as pd\n",
    "import os"
   ]
  },
  {
   "cell_type": "markdown",
   "metadata": {},
   "source": [
    "# Prices\n"
   ]
  },
  {
   "cell_type": "code",
   "execution_count": 17,
   "metadata": {},
   "outputs": [],
   "source": [
    "df_SP = pd.read_csv(\"./Raw/SPX.csv\")\n",
    "df_BP = pd.read_csv(\"./Raw/BTC-USD.csv\")\n",
    "\n",
    "df_SP['Date'] = pd.to_datetime(df_SP['Date'])\n",
    "df_BP['Date'] = pd.to_datetime(df_BP['Date'])\n",
    "\n",
    "#number of null values\n",
    "sum(df_SP['Volume'] == 0)\n",
    "\n",
    "#number of rows\n",
    "len(df_SP.index)\n",
    "\n",
    "df_SP = df_SP.rename(columns={\n",
    "    'High': 'High_S',\n",
    "    'Low': 'Low_S',\n",
    "    'Close': 'Close_S',\n",
    "    'Adj Close': 'Adj Close_S',\n",
    "    'Volume': 'Volume_S'\n",
    "})\n",
    "\n",
    "df_BP = df_BP.rename(columns={\n",
    "    'High': 'High_B',\n",
    "    'Low': 'Low_B',\n",
    "    'Close': 'Close_B',\n",
    "    'Adj Close': 'Adj Close_B',\n",
    "    'Volume': 'Volume_B'\n",
    "})\n",
    "\n",
    "merged_prices = pd.merge(df_SP, df_BP, on='Date')\n",
    "\n",
    "file_path = os.path.join('./Processed', 'combined_prices.csv')\n",
    "\n",
    "merged_prices.to_csv(file_path, index=False)"
   ]
  },
  {
   "cell_type": "markdown",
   "metadata": {},
   "source": [
    "# Bitcoin Sentiment "
   ]
  },
  {
   "cell_type": "code",
   "execution_count": 4,
   "metadata": {},
   "outputs": [
    {
     "data": {
      "text/plain": [
       "Date\n",
       "2018-08-03    995986\n",
       "2019-07-11    567713\n",
       "2019-07-15    528102\n",
       "2017-12-08    275463\n",
       "2019-06-17    194993\n",
       "               ...  \n",
       "2016-08-27       187\n",
       "2015-10-08       186\n",
       "2015-10-07       183\n",
       "2015-09-28       177\n",
       "2015-09-04       174\n",
       "Name: count, Length: 1893, dtype: int64"
      ]
     },
     "execution_count": 4,
     "metadata": {},
     "output_type": "execute_result"
    }
   ],
   "source": [
    "df_BS = pd.read_csv(\"./Raw/BitcoinSent.csv\")\n",
    "\n",
    "#removed non-date data in the 'Date' header\n",
    "df_BS['Date'] = pd.to_datetime(df_BS['Date'], errors='coerce')\n",
    "df_BS = df_BS[df_BS['Date'].notna()]\n",
    "\n",
    "#sort in ascending date\n",
    "df_BS = df_BS.sort_values(by='Date', ascending=True)\n",
    "df_BS = df_BS.reset_index(drop=True)\n",
    "\n",
    "#testing\n",
    "df_BS.tail\n",
    "\n",
    "df_BS['Date'].value_counts()\n",
    "\n"
   ]
  }
 ],
 "metadata": {
  "kernelspec": {
   "display_name": ".venv",
   "language": "python",
   "name": "python3"
  },
  "language_info": {
   "codemirror_mode": {
    "name": "ipython",
    "version": 3
   },
   "file_extension": ".py",
   "mimetype": "text/x-python",
   "name": "python",
   "nbconvert_exporter": "python",
   "pygments_lexer": "ipython3",
   "version": "3.13.2"
  }
 },
 "nbformat": 4,
 "nbformat_minor": 2
}
