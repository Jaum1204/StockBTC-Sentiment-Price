{
 "cells": [
  {
   "cell_type": "code",
   "execution_count": 2,
   "metadata": {},
   "outputs": [],
   "source": [
    "import pandas as pd\n",
    "import os"
   ]
  },
  {
   "cell_type": "markdown",
   "metadata": {},
   "source": [
    "# Prices\n"
   ]
  },
  {
   "cell_type": "code",
   "execution_count": 4,
   "metadata": {},
   "outputs": [],
   "source": [
    "df_SP = pd.read_csv(\"./Raw/SPX.csv\")\n",
    "df_BP = pd.read_csv(\"./Raw/BTC-USD.csv\")\n",
    "\n",
    "df_SP['Date'] = pd.to_datetime(df_SP['Date'])\n",
    "df_BP['Date'] = pd.to_datetime(df_BP['Date'])\n",
    "\n",
    "df_SP = df_SP.rename(columns={\n",
    "    'Open': 'Open_S',\n",
    "    'High': 'High_S',\n",
    "    'Low': 'Low_S',\n",
    "    'Close': 'Close_S',\n",
    "    'Adj Close': 'Adj Close_S',\n",
    "    'Volume': 'Volume_S'\n",
    "})\n",
    "\n",
    "df_BP = df_BP.rename(columns={\n",
    "    'Open': 'Open_B',\n",
    "    'High': 'High_B',\n",
    "    'Low': 'Low_B',\n",
    "    'Close': 'Close_B',\n",
    "    'Adj Close': 'Adj Close_B',\n",
    "    'Volume': 'Volume_B'\n",
    "})\n",
    "\n",
    "merged_prices = pd.merge(df_SP, df_BP, on='Date')\n",
    "\n",
    "file_path = os.path.join('./Processed', 'combined_prices.csv')\n",
    "\n",
    "merged_prices.to_csv(file_path, index=False)"
   ]
  },
  {
   "cell_type": "markdown",
   "metadata": {},
   "source": [
    "# Sentiment "
   ]
  },
  {
   "cell_type": "markdown",
   "metadata": {},
   "source": [
    "### Bitcoin"
   ]
  },
  {
   "cell_type": "code",
   "execution_count": 3,
   "metadata": {},
   "outputs": [
    {
     "data": {
      "text/plain": [
       "<bound method NDFrame.tail of                Date                                               text  \\\n",
       "0        2014-09-18  LIVE: Profit = $414.71 (1.31 %). BUY B75.77 @ ...   \n",
       "1        2014-09-18  Current price: 418.77$ $BTCUSD $btc #bitcoin 2...   \n",
       "2        2014-09-18  1 #BTC (#Bitcoin) quotes:\\n$423.60/$424.80 #Bi...   \n",
       "3        2014-09-18  In the last 10 mins, there were arb opps spann...   \n",
       "4        2014-09-18  Be judicious, buy your Bitcoins at https://Bit...   \n",
       "...             ...                                                ...   \n",
       "19344014 2019-11-23  €400 million investment in Blockchain and AI t...   \n",
       "19344015 2019-11-23  BTC/USD | $BTCUSD | $BTC $USD\\n\\nBitcoin Outlo...   \n",
       "19344016 2019-11-23  BTC\\n\\n長期的目線\\n\\n現在のトライアングル収束までに要した期間と人々の関心から、\\...   \n",
       "19344017 2019-11-23  SPECIAL DEAL TO ANYONE HAS CASH APP OR BITCOIN...   \n",
       "19344018 2019-11-23  $BTC - an update on the longer term view for B...   \n",
       "\n",
       "         Sentiment  \n",
       "0         Negative  \n",
       "1         Negative  \n",
       "2         Negative  \n",
       "3         Negative  \n",
       "4         Negative  \n",
       "...            ...  \n",
       "19344014  Positive  \n",
       "19344015  Positive  \n",
       "19344016  Positive  \n",
       "19344017  Positive  \n",
       "19344018  Positive  \n",
       "\n",
       "[19344019 rows x 3 columns]>"
      ]
     },
     "execution_count": 3,
     "metadata": {},
     "output_type": "execute_result"
    }
   ],
   "source": [
    "df_BS = pd.read_csv(\"./Raw/BitcoinSent.csv\")\n",
    "\n",
    "#removed non-date data in the 'Date' header\n",
    "df_BS['Date'] = pd.to_datetime(df_BS['Date'], errors='coerce')\n",
    "df_BS = df_BS[df_BS['Date'].notna()]\n",
    "\n",
    "#sort in ascending date\n",
    "df_BS = df_BS.sort_values(by='Date', ascending=True)\n",
    "df_BS = df_BS.reset_index(drop=True)\n",
    "\n",
    "#testing\n",
    "df_BS.tail"
   ]
  },
  {
   "cell_type": "markdown",
   "metadata": {},
   "source": [
    "### Stock"
   ]
  },
  {
   "cell_type": "code",
   "execution_count": 4,
   "metadata": {},
   "outputs": [
    {
     "data": {
      "text/plain": [
       "<bound method NDFrame.tail of                     tweet_id           writer   post_date  \\\n",
       "0         550441509175443456  VisualStockRSRC  2015-01-01   \n",
       "1         550441672312512512      KeralaGuy77  2015-01-01   \n",
       "2         550441732014223360      DozenStocks  2015-01-01   \n",
       "3         550442977802207232     ShowDreamCar  2015-01-01   \n",
       "4         550443807834402816     i_Know_First  2015-01-01   \n",
       "...                      ...              ...         ...   \n",
       "3717959  1212159765914079234        TEEELAZER  2019-12-31   \n",
       "3717960  1212159838882533376    ShortingIsFun  2019-12-31   \n",
       "3717961  1212160015332728833      Commuternyc  2019-12-31   \n",
       "3717962  1212160410692046849      MoriaCrypto  2019-12-31   \n",
       "3717963  1212160477159206912         treabase  2019-12-31   \n",
       "\n",
       "                                                      body  comment_num  \\\n",
       "0        lx21 made $10,008  on $AAPL -Check it out! htt...            0   \n",
       "1        Insanity of today weirdo massive selling. $aap...            0   \n",
       "2        S&P100 #Stocks Performance $HD $LOW $SBUX $TGT...            0   \n",
       "3        $GM $TSLA: Volkswagen Pushes 2014 Record Recal...            0   \n",
       "4        Swing Trading: Up To 8.91% Return In 14 Days h...            0   \n",
       "...                                                    ...          ...   \n",
       "3717959  That $SPY $SPX puuump in the last hour was the...            1   \n",
       "3717960  In 2020 I may start Tweeting out positive news...            0   \n",
       "3717961  Patiently Waiting for the no twitter sitter tw...            0   \n",
       "3717962  I don't discriminate. I own both $aapl and $ms...            1   \n",
       "3717963  $AAPL #patent 10,522,475 Vertical interconnect...            0   \n",
       "\n",
       "         retweet_num  like_num  \n",
       "0                  0         1  \n",
       "1                  0         0  \n",
       "2                  0         0  \n",
       "3                  0         1  \n",
       "4                  0         1  \n",
       "...              ...       ...  \n",
       "3717959            0         6  \n",
       "3717960            0         1  \n",
       "3717961            0         5  \n",
       "3717962            0         1  \n",
       "3717963            0         0  \n",
       "\n",
       "[3717964 rows x 7 columns]>"
      ]
     },
     "execution_count": 4,
     "metadata": {},
     "output_type": "execute_result"
    }
   ],
   "source": [
    "df_SS = pd.read_csv(\"./Raw/StockSent.csv\")\n",
    "\n",
    "df_SS['post_date'] = pd.to_datetime(df_SS['post_date'], unit='s')\n",
    "\n",
    "# If you just want the date part (yyyy-mm-dd) as a string:\n",
    "df_SS['post_date'] = df_SS['post_date'].dt.strftime('%Y-%m-%d')\n",
    "\n",
    "df_SS.tail"
   ]
  }
 ],
 "metadata": {
  "kernelspec": {
   "display_name": ".venv",
   "language": "python",
   "name": "python3"
  },
  "language_info": {
   "codemirror_mode": {
    "name": "ipython",
    "version": 3
   },
   "file_extension": ".py",
   "mimetype": "text/x-python",
   "name": "python",
   "nbconvert_exporter": "python",
   "pygments_lexer": "ipython3",
   "version": "3.13.2"
  }
 },
 "nbformat": 4,
 "nbformat_minor": 2
}
