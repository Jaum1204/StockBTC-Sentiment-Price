{
 "cells": [
  {
   "cell_type": "code",
   "execution_count": 2,
   "metadata": {},
   "outputs": [],
   "source": [
    "import pandas as pd"
   ]
  },
  {
   "cell_type": "markdown",
   "metadata": {},
   "source": [
    "# S&P 500 Prices\n"
   ]
  },
  {
   "cell_type": "code",
   "execution_count": 3,
   "metadata": {},
   "outputs": [
    {
     "data": {
      "text/plain": [
       "23323"
      ]
     },
     "execution_count": 3,
     "metadata": {},
     "output_type": "execute_result"
    }
   ],
   "source": [
    "df_SP = pd.read_csv(\"./Raw/SPX.csv\")\n",
    "\n",
    "#number of null values\n",
    "sum(df_SP['Volume'] == 0)\n",
    "\n",
    "#number of rows\n",
    "len(df_SP.index)\n"
   ]
  },
  {
   "cell_type": "markdown",
   "metadata": {},
   "source": [
    "# Bitcoin Sentiment "
   ]
  },
  {
   "cell_type": "code",
   "execution_count": null,
   "metadata": {},
   "outputs": [
    {
     "data": {
      "text/plain": [
       "<bound method NDFrame.tail of                Date                                               text  \\\n",
       "0        2014-09-18  LIVE: Profit = $414.71 (1.31 %). BUY B75.77 @ ...   \n",
       "1        2014-09-18  Current price: 418.77$ $BTCUSD $btc #bitcoin 2...   \n",
       "2        2014-09-18  1 #BTC (#Bitcoin) quotes:\\n$423.60/$424.80 #Bi...   \n",
       "3        2014-09-18  In the last 10 mins, there were arb opps spann...   \n",
       "4        2014-09-18  Be judicious, buy your Bitcoins at https://Bit...   \n",
       "...             ...                                                ...   \n",
       "19344014 2019-11-23  €400 million investment in Blockchain and AI t...   \n",
       "19344015 2019-11-23  BTC/USD | $BTCUSD | $BTC $USD\\n\\nBitcoin Outlo...   \n",
       "19344016 2019-11-23  BTC\\n\\n長期的目線\\n\\n現在のトライアングル収束までに要した期間と人々の関心から、\\...   \n",
       "19344017 2019-11-23  SPECIAL DEAL TO ANYONE HAS CASH APP OR BITCOIN...   \n",
       "19344018 2019-11-23  $BTC - an update on the longer term view for B...   \n",
       "\n",
       "         Sentiment  \n",
       "0         Negative  \n",
       "1         Negative  \n",
       "2         Negative  \n",
       "3         Negative  \n",
       "4         Negative  \n",
       "...            ...  \n",
       "19344014  Positive  \n",
       "19344015  Positive  \n",
       "19344016  Positive  \n",
       "19344017  Positive  \n",
       "19344018  Positive  \n",
       "\n",
       "[19344019 rows x 3 columns]>"
      ]
     },
     "execution_count": 11,
     "metadata": {},
     "output_type": "execute_result"
    }
   ],
   "source": [
    "df_BS = pd.read_csv(\"./Raw/BitcoinSent.csv\")\n",
    "\n",
    "#removed non-date data in the 'Date' header\n",
    "df_BS['Date'] = pd.to_datetime(df_BS['Date'], errors='coerce')\n",
    "df_BS = df_BS[df_BS['Date'].notna()]\n",
    "\n",
    "#sort in ascending date\n",
    "df_BS = df_BS.sort_values(by='Date', ascending=True)\n",
    "df_BS = df_BS.reset_index(drop=True)\n",
    "\n",
    "#testing\n",
    "df_BS.tail\n",
    "\n"
   ]
  }
 ],
 "metadata": {
  "kernelspec": {
   "display_name": ".venv",
   "language": "python",
   "name": "python3"
  },
  "language_info": {
   "codemirror_mode": {
    "name": "ipython",
    "version": 3
   },
   "file_extension": ".py",
   "mimetype": "text/x-python",
   "name": "python",
   "nbconvert_exporter": "python",
   "pygments_lexer": "ipython3",
   "version": "3.13.2"
  }
 },
 "nbformat": 4,
 "nbformat_minor": 2
}
