{
 "cells": [
  {
   "cell_type": "code",
   "execution_count": 31,
   "metadata": {},
   "outputs": [],
   "source": [
    "import os\n",
    "import numpy as np\n",
    "import pandas as pd\n",
    "import cv2\n",
    "import seaborn as sns\n",
    "import matplotlib.pyplot as plt\n",
    "from sklearn.model_selection import train_test_split\n",
    "import string\n",
    "import nltk\n",
    "import ssl\n",
    "import spacy\n",
    "from sklearn.feature_extraction.text import CountVectorizer\n",
    "\n",
    "'''\n",
    "try:\n",
    "    _create_unverified_https_context = ssl._create_unverified_context\n",
    "except AttributeError:\n",
    "    pass\n",
    "else:\n",
    "    ssl._create_default_https_context = _create_unverified_https_context\n",
    "\n",
    "nltk.download('punkt')\n",
    "nltk.download('stopwords')\n",
    "nltk.download('wordnet')\n",
    "nltk.download('punkt_tab')\n",
    "'''\n",
    "\n",
    "from nltk.corpus import stopwords\n",
    "from nltk.tokenize import word_tokenize\n",
    "\n",
    "STOP_WORDS = stopwords.words('english')\n",
    "\n",
    "import warnings\n",
    "warnings.filterwarnings('ignore')\n",
    "\n",
    "from langdetect import detect, DetectorFactory\n",
    "from langdetect.lang_detect_exception import LangDetectException"
   ]
  },
  {
   "cell_type": "code",
   "execution_count": 32,
   "metadata": {},
   "outputs": [
    {
     "name": "stdout",
     "output_type": "stream",
     "text": [
      "['hello', 'hi', 'test', '.', 'oi', '.', 'oi']\n"
     ]
    }
   ],
   "source": [
    "print(word_tokenize(\"hello     hi test. oi. oi\"))\n"
   ]
  },
  {
   "cell_type": "markdown",
   "metadata": {},
   "source": [
    "# Prices\n"
   ]
  },
  {
   "cell_type": "code",
   "execution_count": 25,
   "metadata": {},
   "outputs": [],
   "source": [
    "df_SP = pd.read_csv(\"./Raw/SPX.csv\")\n",
    "df_BP = pd.read_csv(\"./Raw/BTC-USD.csv\")\n",
    "\n",
    "df_SP['Date'] = pd.to_datetime(df_SP['Date'])\n",
    "df_BP['Date'] = pd.to_datetime(df_BP['Date'])\n",
    "\n",
    "df_SP = df_SP.rename(columns={\n",
    "    'Open': 'Open_S',\n",
    "    'High': 'High_S',\n",
    "    'Low': 'Low_S',\n",
    "    'Close': 'Close_S',\n",
    "    'Adj Close': 'Adj Close_S',\n",
    "    'Volume': 'Volume_S'\n",
    "})\n",
    "\n",
    "df_BP = df_BP.rename(columns={\n",
    "    'Open': 'Open_B',\n",
    "    'High': 'High_B',\n",
    "    'Low': 'Low_B',\n",
    "    'Close': 'Close_B',\n",
    "    'Adj Close': 'Adj Close_B',\n",
    "    'Volume': 'Volume_B'\n",
    "})\n",
    "\n",
    "merged_prices = pd.merge(df_SP, df_BP, on='Date')\n",
    "\n",
    "file_path = os.path.join('./Processed', 'combined_prices.csv')\n",
    "\n",
    "merged_prices.to_csv(file_path, index=False)"
   ]
  },
  {
   "cell_type": "markdown",
   "metadata": {},
   "source": [
    "# Sentiment "
   ]
  },
  {
   "cell_type": "markdown",
   "metadata": {},
   "source": [
    "### Bitcoin"
   ]
  },
  {
   "cell_type": "code",
   "execution_count": 26,
   "metadata": {},
   "outputs": [
    {
     "data": {
      "text/plain": [
       "<bound method NDFrame.tail of                Date                                               body\n",
       "0        2014-09-18  LIVE: Profit = $414.71 (1.31 %). BUY B75.77 @ ...\n",
       "1        2014-09-18  Current price: 418.77$ $BTCUSD $btc #bitcoin 2...\n",
       "2        2014-09-18  1 #BTC (#Bitcoin) quotes:\\n$423.60/$424.80 #Bi...\n",
       "3        2014-09-18  In the last 10 mins, there were arb opps spann...\n",
       "4        2014-09-18  Be judicious, buy your Bitcoins at https://Bit...\n",
       "...             ...                                                ...\n",
       "19344014 2019-11-23  €400 million investment in Blockchain and AI t...\n",
       "19344015 2019-11-23  BTC/USD | $BTCUSD | $BTC $USD\\n\\nBitcoin Outlo...\n",
       "19344016 2019-11-23  BTC\\n\\n長期的目線\\n\\n現在のトライアングル収束までに要した期間と人々の関心から、\\...\n",
       "19344017 2019-11-23  SPECIAL DEAL TO ANYONE HAS CASH APP OR BITCOIN...\n",
       "19344018 2019-11-23  $BTC - an update on the longer term view for B...\n",
       "\n",
       "[19344019 rows x 2 columns]>"
      ]
     },
     "execution_count": 26,
     "metadata": {},
     "output_type": "execute_result"
    }
   ],
   "source": [
    "df_BS = pd.read_csv(\"./Raw/BitcoinSent.csv\")\n",
    "\n",
    "#removed non-date data in the 'Date' header\n",
    "df_BS['Date'] = pd.to_datetime(df_BS['Date'], errors='coerce')\n",
    "df_BS = df_BS[df_BS['Date'].notna()]\n",
    "\n",
    "df_BS.rename(columns={'text': 'body'}, inplace=True)\n",
    "df_BS.drop(columns=['Sentiment'], inplace=True)\n",
    "\n",
    "#sort in ascending date\n",
    "df_BS = df_BS.sort_values(by='Date', ascending=True)\n",
    "df_BS = df_BS.reset_index(drop=True)\n",
    "\n",
    "#testing\n",
    "df_BS.tail"
   ]
  },
  {
   "cell_type": "markdown",
   "metadata": {},
   "source": [
    "Sampling"
   ]
  },
  {
   "cell_type": "code",
   "execution_count": 33,
   "metadata": {},
   "outputs": [
    {
     "name": "stdout",
     "output_type": "stream",
     "text": [
      "<bound method NDFrame.tail of             Date                                               body\n",
      "0     2014-09-18  One Bitcoin now worth $418.00@bitstamp. High $...\n",
      "1     2014-09-18  Harga #Bitcoin Per Tanggal 19-09-2014 07:00:06...\n",
      "2     2014-09-18  Current price: 450.98$ $BTCUSD $btc #bitcoin 2...\n",
      "3     2014-09-18  2014年9月18日 13:00:09\\nbtc_jpy\\n直近[last]:50900円\\...\n",
      "4     2014-09-18  LIVE: Profit = $309.50 (3.14 %). BUY B22.71 @ ...\n",
      "...          ...                                                ...\n",
      "18925 2019-11-23  Fibre2Fashion - BTC gives start to sustainable...\n",
      "18926 2019-11-23  安心・安全で確実な月利20％のビットコインレンディングで資産を増やそう！#ビットコイン #B...\n",
      "18927 2019-11-23  @silverguru22 It’s not needed YET because as o...\n",
      "18928 2019-11-23  Full Stack #PHP #Developer West Drayton &amp; ...\n",
      "18929 2019-11-23  let's join soon and get a surprise, do not reg...\n",
      "\n",
      "[18930 rows x 2 columns]>\n"
     ]
    }
   ],
   "source": [
    "sampled_BS = df_BS.groupby('Date').apply(lambda x: x.sample(n=min(len(x), 10))).reset_index(drop=True)\n",
    "'''\n",
    "print(sampled_BS.tail)\n",
    "\n",
    "def detect_language(text):\n",
    "    try:\n",
    "        return detect(text)\n",
    "    except LangDetectException:\n",
    "        return 'unknown'\n",
    "\n",
    "sampled_BS['language'] = sampled_BS['body'].apply(detect_language)\n",
    "sampled_BS = sampled_BS[sampled_BS['language'] == 'en'].copy()\n",
    "sampled_BS.drop(columns=['language'], inplace=True)\n",
    "sampled_BS = sampled_BS.reset_index(drop=True)\n",
    "\n",
    "print(sampled_BS.tail)\n",
    "'''\n",
    "\n",
    "print(sampled_BS.tail)"
   ]
  },
  {
   "cell_type": "code",
   "execution_count": 35,
   "metadata": {},
   "outputs": [
    {
     "data": {
      "text/plain": [
       "['One',\n",
       " 'Bitcoin',\n",
       " 'now',\n",
       " 'worth',\n",
       " '$',\n",
       " '418.00',\n",
       " '@',\n",
       " 'bitstamp',\n",
       " '.',\n",
       " 'High',\n",
       " '$',\n",
       " '453.94',\n",
       " '.',\n",
       " 'Low',\n",
       " '$',\n",
       " '407.94',\n",
       " '.',\n",
       " 'Market',\n",
       " 'Cap',\n",
       " '$',\n",
       " '5.553',\n",
       " 'Billion',\n",
       " '#',\n",
       " 'bitcoin']"
      ]
     },
     "execution_count": 35,
     "metadata": {},
     "output_type": "execute_result"
    }
   ],
   "source": [
    "test = sampled_BS\n",
    "\n",
    "token = word_tokenize(test.loc[0,'body'])\n",
    "token"
   ]
  },
  {
   "cell_type": "markdown",
   "metadata": {},
   "source": [
    "### Stock"
   ]
  },
  {
   "cell_type": "code",
   "execution_count": 29,
   "metadata": {},
   "outputs": [
    {
     "data": {
      "text/plain": [
       "<bound method NDFrame.tail of                Date                                               body\n",
       "0        2015-01-01  lx21 made $10,008  on $AAPL -Check it out! htt...\n",
       "1        2015-01-01  Insanity of today weirdo massive selling. $aap...\n",
       "2        2015-01-01  S&P100 #Stocks Performance $HD $LOW $SBUX $TGT...\n",
       "3        2015-01-01  $GM $TSLA: Volkswagen Pushes 2014 Record Recal...\n",
       "4        2015-01-01  Swing Trading: Up To 8.91% Return In 14 Days h...\n",
       "...             ...                                                ...\n",
       "3717959  2019-12-31  That $SPY $SPX puuump in the last hour was the...\n",
       "3717960  2019-12-31  In 2020 I may start Tweeting out positive news...\n",
       "3717961  2019-12-31  Patiently Waiting for the no twitter sitter tw...\n",
       "3717962  2019-12-31  I don't discriminate. I own both $aapl and $ms...\n",
       "3717963  2019-12-31  $AAPL #patent 10,522,475 Vertical interconnect...\n",
       "\n",
       "[3717964 rows x 2 columns]>"
      ]
     },
     "execution_count": 29,
     "metadata": {},
     "output_type": "execute_result"
    }
   ],
   "source": [
    "df_SS = pd.read_csv(\"./Raw/StockSent.csv\")\n",
    "\n",
    "df_SS['post_date'] = pd.to_datetime(df_SS['post_date'], unit='s')\n",
    "df_SS['post_date'] = df_SS['post_date'].dt.strftime('%Y-%m-%d')\n",
    "\n",
    "df_SS.rename(columns={'post_date': 'Date'}, inplace=True)\n",
    "df_SS.drop(columns=['tweet_id', 'writer', 'comment_num', 'retweet_num', 'like_num'], inplace=True)\n",
    "\n",
    "df_SS.tail"
   ]
  }
 ],
 "metadata": {
  "kernelspec": {
   "display_name": ".venv",
   "language": "python",
   "name": "python3"
  },
  "language_info": {
   "codemirror_mode": {
    "name": "ipython",
    "version": 3
   },
   "file_extension": ".py",
   "mimetype": "text/x-python",
   "name": "python",
   "nbconvert_exporter": "python",
   "pygments_lexer": "ipython3",
   "version": "3.9.21"
  }
 },
 "nbformat": 4,
 "nbformat_minor": 2
}
