{
 "cells": [
  {
   "cell_type": "code",
   "execution_count": 59,
   "metadata": {},
   "outputs": [],
   "source": [
    "import os\n",
    "import re\n",
    "import unicodedata\n",
    "import numpy as np\n",
    "import pandas as pd\n",
    "import matplotlib.pyplot as plt\n",
    "from sklearn.model_selection import train_test_split\n",
    "import string\n",
    "import nltk\n",
    "import spacy\n",
    "#from sklearn.feature_extraction.text import CountVectorizer\n",
    "import string\n",
    "\n",
    "import en_core_web_md\n",
    "text_to_nlp = spacy.load('en_core_web_md')\n",
    "\n",
    "from nltk.corpus import stopwords\n",
    "from nltk.tokenize import word_tokenize\n",
    "from nltk.stem import WordNetLemmatizer\n",
    "\n",
    "INVISIBLE_CHARS = re.compile(r'[\\u200B\\u200C\\u200D\\u200E\\u200F\\uFEFF\\u00A0]')\n",
    "URLS = re.compile(r'https?://\\S+|www\\.\\S+')\n",
    "EMOJIS = re.compile(\"[\"\n",
    "                    u\"\\U0001F600-\\U0001F64F\"\n",
    "                    u\"\\U0001F300-\\U0001F5FF\"\n",
    "                    u\"\\U0001F680-\\U0001F6FF\"\n",
    "                    u\"\\U0001F1E0-\\U0001F1FF\"\n",
    "                    u\"\\U00002700-\\U000027BF\"\n",
    "                    u\"\\U000024C2-\\U0001F251\"\n",
    "                    \"]+\", flags=re.UNICODE)\n",
    "\n",
    "REMOVE_PUNCT_DIGITS = str.maketrans('', '', string.punctuation + string.digits)\n",
    "CUSTOM_STOPWORDS = {\n",
    "    '|', '=', '1', '5', '2018', 'usd', 'price', 'exchange',\n",
    "    '€', '24', 'utc', 'en', 'high', 'low', 'volume'\n",
    "}\n",
    "BITCOIN_ALIASES = {'btc', 'bit', 'bitcoin', 'bitcoins', 'bit coin'}\n",
    "OTHER_CRYPTO = {\n",
    "    'eth', 'ethereum', 'xrp', 'bch', 'ltc', 'etc', 'ada', 'doge', 'shiba',\n",
    "    'polkadot', 'dot', 'bnb', 'solana', 'trx', 'eos', 'neo', 'iota', 'monero',\n",
    "    'dash', 'zec', 'vechain', 'theta', 'stellar', 'xlm', 'avax', 'algo',\n",
    "    'matic', 'near', 'icp', 'aptos', 'apt', 'kaspa', 'kas'\n",
    "}\n",
    "\n",
    "import warnings\n",
    "warnings.filterwarnings('ignore')"
   ]
  },
  {
   "cell_type": "code",
   "execution_count": 60,
   "metadata": {},
   "outputs": [],
   "source": [
    "def clean_text(text):\n",
    "    if not isinstance(text, str) or not text:\n",
    "        return ''\n",
    "    text = unicodedata.normalize('NFKC', text)\n",
    "    text = INVISIBLE_CHARS.sub('', text)\n",
    "    text = URLS.sub('', text)\n",
    "    text = EMOJIS.sub('', text)\n",
    "    text = text.lower()\n",
    "    text = text.translate(REMOVE_PUNCT_DIGITS)\n",
    "    tokens = text.split()\n",
    "\n",
    "    has_bitcoin = False\n",
    "    clean_tokens = []\n",
    "    \n",
    "    for token in tokens:\n",
    "        if token in OTHER_CRYPTO or token in CUSTOM_STOPWORDS:\n",
    "            continue\n",
    "      \n",
    "        if token in BITCOIN_ALIASES:\n",
    "            if has_bitcoin:\n",
    "                continue \n",
    "            else:\n",
    "                clean_tokens.append('bitcoin')\n",
    "                has_bitcoin = True\n",
    "        else:\n",
    "            clean_tokens.append(token)\n",
    "\n",
    "    return ' '.join(clean_tokens)\n",
    "\n",
    "def tokenize(text):\n",
    "    clean_tokens = []\n",
    "    for token in text_to_nlp(text):\n",
    "        if (not token.is_stop) and (token.lemma_ != '-PRON-') and (not token.is_punct):\n",
    "            clean_tokens.append(token.lemma_)\n",
    "    return clean_tokens"
   ]
  },
  {
   "cell_type": "markdown",
   "metadata": {},
   "source": [
    "# Prices\n"
   ]
  },
  {
   "cell_type": "code",
   "execution_count": 61,
   "metadata": {},
   "outputs": [
    {
     "data": {
      "text/plain": [
       "<bound method NDFrame.tail of           Date  Close_S   Open_S   High_S    Low_S  Close_B   Open_B   High_B  \\\n",
       "374 2022-01-03  4796.56  4778.14  4796.64  4758.17  46430.2  47293.9  47556.0   \n",
       "373 2022-01-04  4793.54  4804.51  4818.62  4774.27  45837.3  46435.7  47505.4   \n",
       "372 2022-01-05  4700.58  4787.99  4797.70  4699.44  43425.9  45833.1  47019.4   \n",
       "371 2022-01-06  4696.05  4693.39  4725.01  4671.26  43097.5  43431.6  43772.3   \n",
       "370 2022-01-07  4677.03  4697.66  4707.95  4662.74  41546.7  43097.9  43127.7   \n",
       "..         ...      ...      ...      ...      ...      ...      ...      ...   \n",
       "10  2023-06-15  4425.84  4365.33  4439.20  4362.60  25591.3  25129.5  25732.8   \n",
       "9   2023-06-16  4409.59  4440.95  4448.47  4407.44  26341.3  25591.9  26472.8   \n",
       "8   2023-06-20  4388.71  4396.11  4400.15  4367.19  28307.7  26845.9  28393.0   \n",
       "7   2023-06-21  4365.69  4380.01  4386.22  4360.14  29996.9  28307.7  30769.5   \n",
       "6   2023-06-22  4381.89  4355.40  4382.25  4351.82  29890.5  29992.8  30497.8   \n",
       "\n",
       "       Low_B  \n",
       "374  45704.0  \n",
       "373  45602.1  \n",
       "372  42535.1  \n",
       "371  42481.1  \n",
       "370  40810.0  \n",
       "..       ...  \n",
       "10   24838.0  \n",
       "9    25276.0  \n",
       "8    26665.5  \n",
       "7    28270.5  \n",
       "6    29590.4  \n",
       "\n",
       "[369 rows x 9 columns]>"
      ]
     },
     "execution_count": 61,
     "metadata": {},
     "output_type": "execute_result"
    }
   ],
   "source": [
    "df_SP2 = pd.read_csv(\"./Raw/SP500Price.csv\")\n",
    "df_BP2 = pd.read_csv(\"./Raw/BitcoinPrice.csv\")\n",
    "\n",
    "df_BP2.drop(columns=['Vol.','Change %'], inplace=True)\n",
    "\n",
    "df_SP2 = df_SP2.rename(columns={\n",
    "    'Open': 'Open_S',\n",
    "    'Close/Last': 'Close_S',\n",
    "    'High': 'High_S',\n",
    "    'Low': 'Low_S',\n",
    "})\n",
    "\n",
    "df_BP2 = df_BP2.rename(columns={\n",
    "    'Price': 'Close_B',\n",
    "    'Open': 'Open_B',\n",
    "    'High': 'High_B',\n",
    "    'Low': 'Low_B',\n",
    "})\n",
    "\n",
    "for col in ['Close_B', 'Open_B', 'High_B', 'Low_B']:\n",
    "    df_BP2[col] = df_BP2[col].str.replace(',', '')\n",
    "    df_BP2[col] = df_BP2[col].astype(float)  \n",
    "\n",
    "df_SP2['Date'] = pd.to_datetime(df_SP2['Date'])\n",
    "df_BP2['Date'] = pd.to_datetime(df_BP2['Date'])\n",
    "\n",
    "merged_prices = pd.merge(df_SP2, df_BP2, on='Date')\n",
    "merged_prices = merged_prices.sort_values('Date')\n",
    "merged_prices = merged_prices[merged_prices['Date'] <= '2023-06-22']\n",
    "\n",
    "file_path = os.path.join('./Processed', 'combined_prices.csv')\n",
    "\n",
    "merged_prices.to_csv(file_path, index=False)\n",
    "\n",
    "merged_prices.tail"
   ]
  },
  {
   "cell_type": "markdown",
   "metadata": {},
   "source": [
    "# Sentiment "
   ]
  },
  {
   "cell_type": "markdown",
   "metadata": {},
   "source": [
    "### Bitcoin"
   ]
  },
  {
   "cell_type": "code",
   "execution_count": 62,
   "metadata": {},
   "outputs": [],
   "source": [
    "df_BS = pd.read_csv(\"./Raw/BitcoinSent.csv\")\n",
    "\n",
    "df_BS['date'] = pd.to_datetime(df_BS['date'], errors='coerce')\n",
    "df_BS = df_BS[df_BS['date'].notna()]\n",
    "df_BS = df_BS[df_BS['text'].notna()]\n",
    "df_BS = df_BS[df_BS['text'].apply(lambda x: isinstance(x, str))]\n",
    "df_BS = df_BS[df_BS['sentiment_label'].notna()]\n",
    "df_BS = df_BS[df_BS['sentiment_label'].isin(['Positive', 'Negative', 'Neutral'])]\n",
    "df_BS['sentiment_label'] = df_BS['sentiment_label'].map({'Positive': 1,'Neutral' : 0.5 , 'Negative': 0})\n",
    "\n",
    "df_BS = df_BS.sort_values(by='date', ascending=True)\n",
    "\n",
    "avg_sent = df_BS.groupby(df_BS['date'].dt.date)['sentiment_label'].mean().reset_index()\n",
    "\n",
    "file_path = os.path.join('./Processed', 'average_sent.csv')\n",
    "\n",
    "avg_sent.to_csv(file_path, index=False)"
   ]
  },
  {
   "cell_type": "code",
   "execution_count": 63,
   "metadata": {},
   "outputs": [
    {
     "data": {
      "text/plain": [
       "\"\\n#FOR VISUALIZATION - OTHER FILE\\n\\nvisu_words = df_BS\\nvisu_words = visu_words.reset_index(drop=True)\\n\\nvisu_words = visu_words.groupby('date').apply(lambda x: x.sample(n=min(len(x), 3))).reset_index(drop=True)\\n\\nvisu_words['text'] = visu_words['text'].apply(clean_text)\\nvisu_words['text'] = visu_words['text'].apply(tokenize)\\n\\nvisu_words.tail\\nvisu_words.to_pickle('visu_words.pkl')\\n\""
      ]
     },
     "execution_count": 63,
     "metadata": {},
     "output_type": "execute_result"
    }
   ],
   "source": [
    "\n",
    "'''\n",
    "#FOR VISUALIZATION - OTHER FILE\n",
    "\n",
    "visu_words = df_BS\n",
    "visu_words = visu_words.reset_index(drop=True)\n",
    "\n",
    "visu_words = visu_words.groupby('date').apply(lambda x: x.sample(n=min(len(x), 3))).reset_index(drop=True)\n",
    "\n",
    "visu_words['text'] = visu_words['text'].apply(clean_text)\n",
    "visu_words['text'] = visu_words['text'].apply(tokenize)\n",
    "\n",
    "visu_words.tail\n",
    "visu_words.to_pickle('visu_words.pkl')\n",
    "'''\n"
   ]
  },
  {
   "cell_type": "code",
   "execution_count": 64,
   "metadata": {},
   "outputs": [],
   "source": [
    "sampled_BS = df_BS.groupby('date').apply(lambda x: x.sample(n=min(len(x), 5))).reset_index(drop=True)\n",
    "\n",
    "sampled_BS['text'] = sampled_BS['text'].apply(clean_text)\n",
    "\n",
    "sampled_BS['text'] = sampled_BS['text'].apply(tokenize)\n",
    "\n",
    "test = sampled_BS\n",
    "test['body_str'] = test['text'].apply(lambda tokens: ' '.join(tokens))\n",
    "\n",
    "test = test.groupby('date').agg({\n",
    "    'text': list,\n",
    "    'body_str': lambda texts: ' '.join(texts),\n",
    "    'sentiment_label': 'mean'\n",
    "}).reset_index()\n",
    "\n",
    "\n",
    "file_path = os.path.join('./Processed', 'btc_nlp_test.csv')\n",
    "test.to_csv(file_path, index=False)"
   ]
  }
 ],
 "metadata": {
  "kernelspec": {
   "display_name": ".venv310",
   "language": "python",
   "name": "python3"
  },
  "language_info": {
   "codemirror_mode": {
    "name": "ipython",
    "version": 3
   },
   "file_extension": ".py",
   "mimetype": "text/x-python",
   "name": "python",
   "nbconvert_exporter": "python",
   "pygments_lexer": "ipython3",
   "version": "3.10.13"
  }
 },
 "nbformat": 4,
 "nbformat_minor": 2
}
